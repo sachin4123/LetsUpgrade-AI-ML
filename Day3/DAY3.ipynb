{
 "cells": [
  {
   "cell_type": "markdown",
   "metadata": {},
   "source": [
    "# Assigment"
   ]
  },
  {
   "cell_type": "markdown",
   "metadata": {},
   "source": [
    "1) Write a program to subtract two complex numbers in Python.\n"
   ]
  },
  {
   "cell_type": "code",
   "execution_count": 3,
   "metadata": {},
   "outputs": [
    {
     "name": "stdout",
     "output_type": "stream",
     "text": [
      "(2+1j)\n"
     ]
    }
   ],
   "source": [
    "a=(5+2j)\n",
    "b=(3+1j)\n",
    "c=a-b\n",
    "print(c)"
   ]
  },
  {
   "cell_type": "markdown",
   "metadata": {},
   "source": [
    "2) Write a program to find the fourth root of a number.\n"
   ]
  },
  {
   "cell_type": "code",
   "execution_count": 6,
   "metadata": {},
   "outputs": [
    {
     "name": "stdout",
     "output_type": "stream",
     "text": [
      "16\n"
     ]
    }
   ],
   "source": [
    "a=2**4\n",
    "print(a)"
   ]
  },
  {
   "cell_type": "markdown",
   "metadata": {},
   "source": [
    "3) Write a program to swap two numbers in Python with the help of a temporary variable.\n"
   ]
  },
  {
   "cell_type": "code",
   "execution_count": 12,
   "metadata": {},
   "outputs": [
    {
     "name": "stdout",
     "output_type": "stream",
     "text": [
      "the value of a before swapping=1\n",
      "the value of b before swapping=2\n",
      "the value of a after swapping=2\n",
      "the value of b after swapping=1\n"
     ]
    }
   ],
   "source": [
    "a=1\n",
    "b=2\n",
    "print(\"the value of a before swapping=\"+str(a))\n",
    "print(\"the value of b before swapping=\"+str(b))\n",
    "temp=a\n",
    "a=b\n",
    "b=temp\n",
    "print(\"the value of a after swapping=\"+str(a))\n",
    "print(\"the value of b after swapping=\"+str(b))"
   ]
  },
  {
   "cell_type": "markdown",
   "metadata": {},
   "source": [
    "4) Write a program to swap two numbers in Python without using a temporary variable.\n"
   ]
  },
  {
   "cell_type": "code",
   "execution_count": 13,
   "metadata": {},
   "outputs": [
    {
     "name": "stdout",
     "output_type": "stream",
     "text": [
      "the value of a before swapping=1\n",
      "the value of b before swapping=2\n",
      "the value of a after swapping=2\n",
      "the value of b after swapping=1\n"
     ]
    }
   ],
   "source": [
    "a=1\n",
    "b=2\n",
    "print(\"the value of a before swapping=\"+str(a))\n",
    "print(\"the value of b before swapping=\"+str(b))\n",
    "a=a+b\n",
    "b=a-b\n",
    "a=a-b\n",
    "print(\"the value of a after swapping=\"+str(a))\n",
    "print(\"the value of b after swapping=\"+str(b))\n"
   ]
  },
  {
   "cell_type": "markdown",
   "metadata": {},
   "source": [
    "5) Write a program to convert fahrenheit to kelvin and celsius both."
   ]
  },
  {
   "cell_type": "code",
   "execution_count": 16,
   "metadata": {},
   "outputs": [
    {
     "name": "stdout",
     "output_type": "stream",
     "text": [
      "kelvin=311.8333333333333\n",
      "Celsius=38.333333333333336\n"
     ]
    }
   ],
   "source": [
    "fahrenheit=101\n",
    "\n",
    "kelvin = 273.5 + ((fahrenheit - 32.0) * (5.0/9.0))\n",
    "Celsius =((fahrenheit - 32)*5)/9;  \n",
    "print(\"kelvin=\"+ str(kelvin) )\n",
    "print(\"Celsius=\"+ str(Celsius) )"
   ]
  },
  {
   "cell_type": "markdown",
   "metadata": {},
   "source": [
    "6) Write a program to demonstrate all the available data types in Python. Hint: Use type() function.\n"
   ]
  },
  {
   "cell_type": "code",
   "execution_count": 21,
   "metadata": {},
   "outputs": [
    {
     "name": "stdout",
     "output_type": "stream",
     "text": [
      "the type of a variable<class 'int'>\n",
      "the type of b variable<class 'float'>\n",
      "the type of c variable<class 'str'>\n",
      "the type of d variable<class 'list'>\n",
      "the type of e variable<class 'tuple'>\n",
      "the type of f variable<class 'dict'>\n",
      "the type of f variable<class 'set'>\n",
      "the type of i variable<class 'set'>\n"
     ]
    }
   ],
   "source": [
    "a=1\n",
    "print(\"the type of a variable\"+str(type(a)))  # int\n",
    "\n",
    "b=10.01\n",
    "print(\"the type of b variable\"+str(type(b)))  # float\n",
    "\n",
    "c=\"hi sachin pawar here\" \n",
    "print(\"the type of c variable\"+str(type(c)))  # strings\n",
    "\n",
    "d=[1,2,3]\n",
    "print(\"the type of d variable\"+str(type(d)))  # list\n",
    "\n",
    "e=(1,2,3)\n",
    "print(\"the type of e variable\"+str(type(e)))  # tuple\n",
    "\n",
    "f={a:1,b:2}\n",
    "print(\"the type of f variable\"+str(type(f)))  # dictinary\n",
    "\n",
    "h={a,b}\n",
    "print(\"the type of f variable\"+str(type(h)))  # sets\n",
    "\n",
    "i=True\n",
    "print(\"the type of i variable\"+str(type(h))) # boolean\n",
    "\n"
   ]
  },
  {
   "cell_type": "code",
   "execution_count": null,
   "metadata": {},
   "outputs": [],
   "source": []
  }
 ],
 "metadata": {
  "kernelspec": {
   "display_name": "Python 3",
   "language": "python",
   "name": "python3"
  },
  "language_info": {
   "codemirror_mode": {
    "name": "ipython",
    "version": 3
   },
   "file_extension": ".py",
   "mimetype": "text/x-python",
   "name": "python",
   "nbconvert_exporter": "python",
   "pygments_lexer": "ipython3",
   "version": "3.7.1"
  }
 },
 "nbformat": 4,
 "nbformat_minor": 2
}
