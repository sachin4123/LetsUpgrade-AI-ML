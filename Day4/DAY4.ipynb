{
 "cells": [
  {
   "cell_type": "markdown",
   "metadata": {},
   "source": [
    "# Assignment Day 4 "
   ]
  },
  {
   "cell_type": "markdown",
   "metadata": {},
   "source": [
    "1) Research on whether addition, subtraction, multiplication, division, floor division and modulo\n",
    "operations be performed on complex numbers. Based on your study, implement a Python\n",
    "program to demonstrate these operations."
   ]
  },
  {
   "cell_type": "code",
   "execution_count": 13,
   "metadata": {},
   "outputs": [
    {
     "name": "stdout",
     "output_type": "stream",
     "text": [
      "addition of (1+2j) and (3+5j)is= (4+7j)\n",
      "substraction of (1+2j) and (3+5j)is= (-2-3j)\n",
      "multiplication of (1+2j) and (3+5j)is= (-7+11j)\n",
      "divide of (1+2j) and (3+5j)is= (0.3823529411764706+0.029411764705882346j)\n"
     ]
    }
   ],
   "source": [
    "a= 1+2j\n",
    "b=3+5j\n",
    "\n",
    "add= a+b\n",
    "print(\"addition of \" +str(a) +\" and \" +str(b) + \"is= \" + str(add))\n",
    "\n",
    "sub=a-b\n",
    "print(\"substraction of \" +str(a) +\" and \" +str(b) + \"is= \" + str(sub))\n",
    "\n",
    "mul=a*b\n",
    "print(\"multiplication of \" +str(a) +\" and \" +str(b) + \"is= \" + str(mul))\n",
    "\n",
    "div=a/b\n",
    "print(\"divide of \" +str(a) +\" and \" +str(b) + \"is= \" + str(div))\n",
    "\n",
    "# floor_div=a//b #  TypeError: can't take floor of complex number.\n",
    "\n",
    "# div=a%b TypeError: can't mod complex numbers.\n",
    "\n"
   ]
  },
  {
   "cell_type": "markdown",
   "metadata": {},
   "source": [
    "2) range function"
   ]
  },
  {
   "cell_type": "code",
   "execution_count": 12,
   "metadata": {},
   "outputs": [
    {
     "name": "stdout",
     "output_type": "stream",
     "text": [
      "2\n",
      "3\n",
      "4\n",
      "5\n",
      "6\n",
      "7\n",
      "8\n",
      "9\n",
      "using step 2\n",
      "2\n",
      "4\n",
      "6\n",
      "8\n"
     ]
    }
   ],
   "source": [
    "# start =2 and end=10\n",
    "for i in range(2, 10):\n",
    "    print(i)\n",
    "    \n",
    "# start =2 and end=10 ,step=2\n",
    "    \n",
    "print(\"using step 2\")    \n",
    "for i in range(2, 10,2):\n",
    "    print(i)"
   ]
  },
  {
   "cell_type": "code",
   "execution_count": 14,
   "metadata": {},
   "outputs": [
    {
     "name": "stdout",
     "output_type": "stream",
     "text": [
      "[0, 2, 4, 6, 8, 10, 12, 14, 16, 18, 20, 22, 24, 26, 28, 30, 32, 34, 36, 38, 40, 42, 44, 46, 48, 50, 52, 54, 56, 58, 60, 62, 64, 66, 68, 70, 72, 74, 76, 78, 80, 82, 84, 86, 88, 90, 92, 94, 96, 98]\n"
     ]
    }
   ],
   "source": [
    "#create even number list using range function \n",
    "data=list(range(0,100,2))\n",
    "print(data)"
   ]
  },
  {
   "cell_type": "markdown",
   "metadata": {},
   "source": [
    "3)  Consider two numbers. Perform their subtraction and if the result of subtraction is greater than\n",
    "25, print their multiplication result else print their division result."
   ]
  },
  {
   "cell_type": "code",
   "execution_count": 18,
   "metadata": {},
   "outputs": [
    {
     "name": "stdout",
     "output_type": "stream",
     "text": [
      "multiplication of two numbers is 2125\n"
     ]
    }
   ],
   "source": [
    "a=85\n",
    "b=25\n",
    "c=a-b\n",
    "if c>25:\n",
    "    print(\"multiplication of two numbers is \"+str(a*b))\n",
    "else:\n",
    "    print(\"division of two numbers is \"+str(a/b))"
   ]
  },
  {
   "cell_type": "markdown",
   "metadata": {},
   "source": [
    "4) Consider a list of 10 elements of integer values. If the number in the list is divisible by 2, print the\n",
    "result as \"square of that number minus 2\"."
   ]
  },
  {
   "cell_type": "code",
   "execution_count": 29,
   "metadata": {},
   "outputs": [
    {
     "name": "stdout",
     "output_type": "stream",
     "text": [
      "the number 0 result is -2\n",
      "the number 2 result is 2\n",
      "the number 4 result is 14\n",
      "the number 6 result is 34\n",
      "the number 8 result is 62\n"
     ]
    }
   ],
   "source": [
    "# a=list(range(10))\n",
    "for i in range(10):\n",
    "    if i %2==0:\n",
    "        c=i*i-2\n",
    "        print(\"the number \" +str(i) +\" result is \"+str(c))"
   ]
  },
  {
   "cell_type": "markdown",
   "metadata": {},
   "source": [
    "5) Consider a list of 10 elements. Print all the elements in the list which are greater than 7 when that\n",
    "number is divided 2."
   ]
  },
  {
   "cell_type": "code",
   "execution_count": 30,
   "metadata": {},
   "outputs": [
    {
     "name": "stdout",
     "output_type": "stream",
     "text": [
      "the number 8 result is 8\n"
     ]
    }
   ],
   "source": [
    "for i in range(10):\n",
    "    if i %2==0 and i>7:\n",
    "        print(\"the number \" +str(i) +\" result is \"+str(i))"
   ]
  }
 ],
 "metadata": {
  "kernelspec": {
   "display_name": "Python 3",
   "language": "python",
   "name": "python3"
  },
  "language_info": {
   "codemirror_mode": {
    "name": "ipython",
    "version": 3
   },
   "file_extension": ".py",
   "mimetype": "text/x-python",
   "name": "python",
   "nbconvert_exporter": "python",
   "pygments_lexer": "ipython3",
   "version": "3.7.1"
  }
 },
 "nbformat": 4,
 "nbformat_minor": 2
}
