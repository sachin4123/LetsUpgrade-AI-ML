{
 "cells": [
  {
   "cell_type": "markdown",
   "metadata": {},
   "source": [
    "# ASSIGMENT "
   ]
  },
  {
   "cell_type": "markdown",
   "metadata": {},
   "source": [
    "1) Write a Python program to find the first 20 non-even prime natural numbers.\n"
   ]
  },
  {
   "cell_type": "code",
   "execution_count": 21,
   "metadata": {},
   "outputs": [
    {
     "name": "stdout",
     "output_type": "stream",
     "text": [
      "[3, 5, 7, 11, 13, 17, 19, 23, 29, 31, 37, 41, 43, 47, 53, 59, 61, 67, 71, 73]\n"
     ]
    }
   ],
   "source": [
    "def prime(num):\n",
    "    while True:\n",
    "        num=num+1\n",
    "        for i in range(2,num):\n",
    "            if num%i==0:\n",
    "                break\n",
    "        else:\n",
    "            if num%2==0:\n",
    "                continue\n",
    "            else:\n",
    "                 return num\n",
    "\n",
    "def count(n):\n",
    "    a=[]\n",
    "    num,count=1,1\n",
    "    while count<=n:\n",
    "        num=prime(num)\n",
    "        a.append(num)\n",
    "        count=count+1\n",
    "    return a\n",
    "\n",
    "print(count(20))"
   ]
  },
  {
   "cell_type": "markdown",
   "metadata": {},
   "source": [
    "2) Write a Python program to implement 15 functions of string.\n"
   ]
  },
  {
   "cell_type": "code",
   "execution_count": 51,
   "metadata": {},
   "outputs": [
    {
     "name": "stdout",
     "output_type": "stream",
     "text": [
      "123\n",
      "7\n",
      "Sachin \n",
      "sachin \n",
      "1\n",
      "ssdchin \n",
      "sachin\n",
      "['s', 'chin ']\n",
      "True\n",
      "False\n",
      "1\n",
      "True\n",
      "51236\n",
      "False\n",
      "False\n"
     ]
    }
   ],
   "source": [
    "a='sachin '\n",
    "b='123'\n",
    "\n",
    "print(int(b))\n",
    "\n",
    "print(len(a))\n",
    "\n",
    "print(a.capitalize())\n",
    "\n",
    "print(a.lower())\n",
    "\n",
    "print(a.count('s'))\n",
    "\n",
    "print(a.replace(\"s\",\"ss\").replace('a','d'))\n",
    "\n",
    "print(a.strip())\n",
    "\n",
    "print(a.split('a'))\n",
    "\n",
    "print(a.endswith(' '))\n",
    "\n",
    "print(a.startswith(' '))\n",
    "\n",
    "print(a.index('a'))\n",
    "\n",
    "print(b.isdigit())\n",
    "\n",
    "print(b.join('56'))\n",
    "\n",
    "print(a.isspace())\n",
    "\n",
    "print(a.istitle())\n"
   ]
  },
  {
   "cell_type": "markdown",
   "metadata": {},
   "source": [
    "3) Write a Python program to check if the given string is a Palindrome or Anagram or None of them.\n",
    "Display the message accordingly to the user.\n"
   ]
  },
  {
   "cell_type": "code",
   "execution_count": 64,
   "metadata": {},
   "outputs": [
    {
     "name": "stdout",
     "output_type": "stream",
     "text": [
      "mom\n",
      "mom\n",
      "string is  a Palindrome\n"
     ]
    }
   ],
   "source": [
    "string='mom'\n",
    "string2=''\n",
    "print(string)\n",
    "\n",
    "Revsered_str=string[::-1]\n",
    "print(Revsered_str)\n",
    "\n",
    "if string==Revsered_str:\n",
    "    print(\"string is  a Palindrome\")\n",
    "elif sorted(string)==sorted(string2):\n",
    "    print( \" string is  a Anagram\")\n",
    "else:\n",
    "      print(\"string is  a neither palidrome or  anagram\")"
   ]
  },
  {
   "cell_type": "markdown",
   "metadata": {},
   "source": [
    "4) Write a Python's user defined function that removes all the additional characters from the string\n",
    "and converts it finally to lower case using built-in lower(). eg: If the string is \"Dr. Darshan Ingle\n",
    "@AI-ML Trainer\", then the output be \"drdarshaningleaimltrainer\"."
   ]
  },
  {
   "cell_type": "code",
   "execution_count": 71,
   "metadata": {},
   "outputs": [
    {
     "name": "stdout",
     "output_type": "stream",
     "text": [
      "drdarshaningleaimltrainer\n"
     ]
    }
   ],
   "source": [
    "def remove_unwanted(string):\n",
    "   return string.replace(\"@\",\"\").replace(\"-\",\"\").replace(\" \",\"\").replace(\".\",\"\").lower()\n",
    "\n",
    "\n",
    "print(remove_unwanted(\"Dr. Darshan Ingle @AI-ML Trainer\"))"
   ]
  },
  {
   "cell_type": "code",
   "execution_count": null,
   "metadata": {},
   "outputs": [],
   "source": []
  }
 ],
 "metadata": {
  "kernelspec": {
   "display_name": "Python 3",
   "language": "python",
   "name": "python3"
  },
  "language_info": {
   "codemirror_mode": {
    "name": "ipython",
    "version": 3
   },
   "file_extension": ".py",
   "mimetype": "text/x-python",
   "name": "python",
   "nbconvert_exporter": "python",
   "pygments_lexer": "ipython3",
   "version": "3.7.1"
  }
 },
 "nbformat": 4,
 "nbformat_minor": 2
}
